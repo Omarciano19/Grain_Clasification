{
 "cells": [
  {
   "cell_type": "code",
   "execution_count": 1,
   "metadata": {},
   "outputs": [
    {
     "name": "stdout",
     "output_type": "stream",
     "text": [
      "400 0\n",
      "100 0\n",
      "200 0\n",
      "100 0\n",
      "120 0\n",
      "300 0\n",
      "40 0\n"
     ]
    }
   ],
   "source": [
    "import os\n",
    "from PIL import Image\n",
    "import pandas as pd\n",
    "\n",
    "directorios=[r\"maize\\NOR\", r\"maize/AP\", r\"maize/BN\", r\"maize/FM\", r\"maize/HD\", r\"maize/MY\", r\"maize/SD\"]\n",
    "df=pd.DataFrame()\n",
    "for element in directorios:\n",
    "    # Directorio donde se encuentran las imágenes\n",
    "    directorio_imagenes = r\"D:/Data Science/grainspace\"+r\"/\"+element\n",
    "\n",
    "    # Lista para almacenar las dimensiones de las imágenes\n",
    "    dimensiones = []\n",
    "\n",
    "    no_image=0\n",
    "    image_count = 0\n",
    "    # Recorre todos los archivos en el directorio de imágenes\n",
    "    for archivo in os.listdir(directorio_imagenes):\n",
    "        # Asegúrate de que el archivo es una imagen\n",
    "        if archivo.endswith('.jpg') or archivo.endswith('.png'):\n",
    "            # Abre la imagen\n",
    "            imagen = Image.open(os.path.join(directorio_imagenes, archivo))\n",
    "            # Obtiene las dimensiones de la imagen\n",
    "            ancho, alto = imagen.size\n",
    "            # Añade las dimensiones a la lista\n",
    "            dimensiones.append({'nombre': archivo, 'ancho': ancho, 'alto': alto})\n",
    "            image_count+=1\n",
    "\n",
    "        else: no_image+=1\n",
    "        \n",
    "\n",
    "    # Crea un DataFrame de pandas a partir de la lista de dimensiones\n",
    "    df_temp =pd.DataFrame(dimensiones)\n",
    "    df=pd.concat([df,df_temp])\n",
    "    print(image_count,no_image)\n",
    "# Guarda el DataFrame como un archivo CSV\n",
    "df.to_csv('dimensiones_imagenes.csv', index=False)\n"
   ]
  },
  {
   "cell_type": "code",
   "execution_count": 2,
   "metadata": {},
   "outputs": [
    {
     "name": "stdout",
     "output_type": "stream",
     "text": [
      "                                              nombre  ancho  alto\n",
      "0  20-UW-M600-0010_5_20211020103317_101_00_06_UD_...    262   400\n",
      "1  20-UW-M600-0010_5_20211020103317_101_00_06_UD_...    273   333\n",
      "2  20-UW-M600-0010_5_20211020103353_95_00_06_UD_1...    240   346\n",
      "3  20-UW-M600-0010_5_20211020103353_95_00_06_UD_2...    252   338\n",
      "4  20-UW-M600-0010_5_20211020103353_95_00_06_UD_2...    304   442\n"
     ]
    }
   ],
   "source": [
    "print(df.head(5))\n"
   ]
  },
  {
   "cell_type": "code",
   "execution_count": 3,
   "metadata": {},
   "outputs": [
    {
     "name": "stdout",
     "output_type": "stream",
     "text": [
      "             ancho         alto\n",
      "count  1260.000000  1260.000000\n",
      "mean    258.492857   316.719841\n",
      "std      42.489497    52.443700\n",
      "min     101.000000   161.000000\n",
      "25%     237.000000   286.000000\n",
      "50%     263.000000   325.000000\n",
      "75%     287.000000   354.000000\n",
      "max     374.000000   450.000000 \n",
      "\n",
      "Los valores maximos son:\n",
      " nombre    20-UW-M600-0010_5_20211020153154_9_00_06_UD_27...\n",
      "ancho                                                   374\n",
      "alto                                                    450\n",
      "dtype: object \n",
      " Los minimos son:\n",
      " nombre    20-UW-M600-0010_5_20211019105231_35_00_06_UD_1...\n",
      "ancho                                                   101\n",
      "alto                                                    161\n",
      "dtype: object\n"
     ]
    }
   ],
   "source": [
    "print(df.describe(),\"\\n\")\n",
    "print(\"Los valores maximos son:\\n\",df.max(),\"\\n Los minimos son:\\n\", df.min())"
   ]
  },
  {
   "cell_type": "markdown",
   "metadata": {},
   "source": [
    "las imagenes analizadas de diferentes tamaños seran usadas en un modelo de ML, se debe cambiar el tamaño de cada una y normalizar.\n",
    "Para ello se va a usar la biblioteca Pillow para el cambio de tamaño y OpenCV para la normalización."
   ]
  },
  {
   "cell_type": "code",
   "execution_count": 4,
   "metadata": {},
   "outputs": [
    {
     "name": "stderr",
     "output_type": "stream",
     "text": [
      "100%|██████████| 400/400 [00:04<00:00, 89.47it/s]\n",
      "100%|██████████| 100/100 [00:01<00:00, 93.32it/s]\n",
      "100%|██████████| 200/200 [00:01<00:00, 113.82it/s]\n",
      "100%|██████████| 100/100 [00:00<00:00, 102.05it/s]\n",
      "100%|██████████| 120/120 [00:01<00:00, 104.36it/s]\n",
      "100%|██████████| 300/300 [00:02<00:00, 118.01it/s]\n",
      "100%|██████████| 40/40 [00:00<00:00, 96.17it/s]\n",
      "100%|██████████| 7/7 [00:12<00:00,  1.78s/it]\n"
     ]
    }
   ],
   "source": [
    "import os\n",
    "from PIL import Image\n",
    "import cv2\n",
    "import numpy as np\n",
    "import pandas as pd\n",
    "from tqdm import tqdm\n",
    "\n",
    "\n",
    "df2=pd.DataFrame()\n",
    "for element in tqdm(directorios):\n",
    "    # Directorio donde se encuentran las imágenes\n",
    "    directorio_imagenes = r\"D:/Data Science/grainspace\"+r\"/\"+element\n",
    "\n",
    "    # Tamaño deseado para las imágenes\n",
    "    tamaño_deseado = (101, 161)\n",
    "\n",
    "    # Lista para almacenar las dimensiones de las imágenes\n",
    "    dimensiones = []\n",
    "\n",
    "    # Recorre todos los archivos en el directorio de imágenes\n",
    "    for archivo in tqdm(os.listdir(directorio_imagenes)):\n",
    "        # Asegúrate de que el archivo es una imagen\n",
    "        if archivo.endswith('.jpg') or archivo.endswith('.png'):\n",
    "            # Abre la imagen\n",
    "            imagen = Image.open(os.path.join(directorio_imagenes, archivo))\n",
    "            # Cambia el tamaño de la imagen\n",
    "            imagen = imagen.resize(tamaño_deseado)\n",
    "            # Convierte la imagen a una matriz numpy\n",
    "            imagen_np = np.array(imagen)\n",
    "            # Normaliza la imagen al rango 0-255\n",
    "            imagen_normalizada = cv2.normalize(imagen_np, None, 0, 255, cv2.NORM_MINMAX)\n",
    "            # Añade las dimensiones a la lista\n",
    "            dimensiones.append({'nombre': archivo, 'ancho': imagen_normalizada.shape[1], 'alto': imagen_normalizada.shape[0]})\n",
    "            \n",
    "            # Directorio donde se guardarán las imágenes modificadas\n",
    "            directorio_salida = r\"D:/Data Science/grainspace/pre\"+r\"/\"+element\n",
    "            # Asegúrate de que el directorio de salida existe\n",
    "            try:\n",
    "                os.makedirs(directorio_salida, exist_ok=True)\n",
    "            except:\n",
    "                os.makedirs(directorio_salida)\n",
    "            # Guarda la imagen normalizada\n",
    "            imagen_salida = Image.fromarray(imagen_normalizada)\n",
    "            imagen_salida.save(os.path.join(directorio_salida, archivo))\n",
    "\n",
    "            \n",
    "\n",
    "     # Crea un DataFrame de pandas a partir de la lista de dimensiones\n",
    "    df_temp =pd.DataFrame(dimensiones)\n",
    "    df2=pd.concat([df2,df_temp])\n",
    "    # Guarda el DataFrame como un archivo CSV\n",
    "    df2.to_csv('dimensiones_Finales.csv', index=False)\n",
    "\n",
    "\n",
    "    \n"
   ]
  },
  {
   "cell_type": "code",
   "execution_count": 5,
   "metadata": {},
   "outputs": [
    {
     "name": "stdout",
     "output_type": "stream",
     "text": [
      "                                              nombre  ancho  alto\n",
      "0  20-UW-M600-0010_5_20211020103317_101_00_06_UD_...    101   161\n",
      "1  20-UW-M600-0010_5_20211020103317_101_00_06_UD_...    101   161\n",
      "2  20-UW-M600-0010_5_20211020103353_95_00_06_UD_1...    101   161\n",
      "3  20-UW-M600-0010_5_20211020103353_95_00_06_UD_2...    101   161\n",
      "4  20-UW-M600-0010_5_20211020103353_95_00_06_UD_2...    101   161\n",
      "        ancho    alto\n",
      "count  1260.0  1260.0\n",
      "mean    101.0   161.0\n",
      "std       0.0     0.0\n",
      "min     101.0   161.0\n",
      "25%     101.0   161.0\n",
      "50%     101.0   161.0\n",
      "75%     101.0   161.0\n",
      "max     101.0   161.0 \n",
      "\n",
      "Los valores maximos son:\n",
      " nombre    20-UW-M600-0010_5_20211020153154_9_00_06_UD_27...\n",
      "ancho                                                   101\n",
      "alto                                                    161\n",
      "dtype: object \n",
      " Los minimos son:\n",
      " nombre    20-UW-M600-0010_5_20211019105231_35_00_06_UD_1...\n",
      "ancho                                                   101\n",
      "alto                                                    161\n",
      "dtype: object\n"
     ]
    }
   ],
   "source": [
    "print(df2.head(5))\n",
    "print(df2.describe(),\"\\n\")\n",
    "print(\"Los valores maximos son:\\n\",df2.max(),\"\\n Los minimos son:\\n\", df2.min())\n"
   ]
  },
  {
   "cell_type": "markdown",
   "metadata": {},
   "source": [
    "Ahora nos aseguramos del exito, repitiendo el primer script a las nuevas imagenes."
   ]
  },
  {
   "cell_type": "code",
   "execution_count": 6,
   "metadata": {},
   "outputs": [
    {
     "name": "stderr",
     "output_type": "stream",
     "text": [
      " 14%|█▍        | 1/7 [00:01<00:07,  1.20s/it]"
     ]
    },
    {
     "name": "stdout",
     "output_type": "stream",
     "text": [
      "400 0\n"
     ]
    },
    {
     "name": "stderr",
     "output_type": "stream",
     "text": [
      " 29%|██▊       | 2/7 [00:01<00:03,  1.50it/s]"
     ]
    },
    {
     "name": "stdout",
     "output_type": "stream",
     "text": [
      "100 0\n"
     ]
    },
    {
     "name": "stderr",
     "output_type": "stream",
     "text": [
      " 43%|████▎     | 3/7 [00:02<00:02,  1.59it/s]"
     ]
    },
    {
     "name": "stdout",
     "output_type": "stream",
     "text": [
      "200 0\n"
     ]
    },
    {
     "name": "stderr",
     "output_type": "stream",
     "text": [
      " 57%|█████▋    | 4/7 [00:02<00:01,  1.99it/s]"
     ]
    },
    {
     "name": "stdout",
     "output_type": "stream",
     "text": [
      "100 0\n"
     ]
    },
    {
     "name": "stderr",
     "output_type": "stream",
     "text": [
      " 71%|███████▏  | 5/7 [00:02<00:00,  2.25it/s]"
     ]
    },
    {
     "name": "stdout",
     "output_type": "stream",
     "text": [
      "120 0\n"
     ]
    },
    {
     "name": "stderr",
     "output_type": "stream",
     "text": [
      "100%|██████████| 7/7 [00:03<00:00,  1.88it/s]"
     ]
    },
    {
     "name": "stdout",
     "output_type": "stream",
     "text": [
      "300 0\n",
      "40 0\n"
     ]
    },
    {
     "name": "stderr",
     "output_type": "stream",
     "text": [
      "\n"
     ]
    }
   ],
   "source": [
    "df3=pd.DataFrame()\n",
    "for element in tqdm(directorios):\n",
    "    # Directorio donde se encuentran las imágenes\n",
    "    directorio_imagenes2 = r\"D:/Data Science/grainspace/pre\"+r\"/\"+element\n",
    "\n",
    "    # Lista para almacenar las dimensiones de las imágenes\n",
    "    dimensiones = []\n",
    "\n",
    "    no_image=0\n",
    "    image_count = 0\n",
    "    # Recorre todos los archivos en el directorio de imágenes\n",
    "    for archivo in os.listdir(directorio_imagenes2):\n",
    "        # Asegúrate de que el archivo es una imagen\n",
    "        if archivo.endswith('.jpg') or archivo.endswith('.png'):\n",
    "            # Abre la imagen\n",
    "            imagen = Image.open(os.path.join(directorio_imagenes2, archivo))\n",
    "            # Obtiene las dimensiones de la imagen\n",
    "            ancho, alto = imagen.size\n",
    "            # Añade las dimensiones a la lista\n",
    "            dimensiones.append({'nombre': archivo, 'ancho': ancho, 'alto': alto})\n",
    "            image_count+=1\n",
    "\n",
    "        else: no_image+=1\n",
    "        \n",
    "\n",
    "    # Crea un DataFrame de pandas a partir de la lista de dimensiones\n",
    "    df_temp =pd.DataFrame(dimensiones)\n",
    "    df3=pd.concat([df3,df_temp])\n",
    "    print(image_count,no_image)\n",
    "# Guarda el DataFrame como un archivo CSV\n",
    "df3.to_csv('dimensiones_imagenes.csv', index=False)"
   ]
  },
  {
   "cell_type": "code",
   "execution_count": 10,
   "metadata": {},
   "outputs": [
    {
     "name": "stdout",
     "output_type": "stream",
     "text": [
      "                                              nombre  ancho  alto\n",
      "0  20-UW-M600-0010_5_20211020103317_101_00_06_UD_...    101   161\n",
      "1  20-UW-M600-0010_5_20211020103317_101_00_06_UD_...    101   161\n",
      "2  20-UW-M600-0010_5_20211020103353_95_00_06_UD_1...    101   161\n",
      "3  20-UW-M600-0010_5_20211020103353_95_00_06_UD_2...    101   161\n",
      "4  20-UW-M600-0010_5_20211020103353_95_00_06_UD_2...    101   161\n",
      "        ancho    alto\n",
      "count  1260.0  1260.0\n",
      "mean    101.0   161.0\n",
      "std       0.0     0.0\n",
      "min     101.0   161.0\n",
      "25%     101.0   161.0\n",
      "50%     101.0   161.0\n",
      "75%     101.0   161.0\n",
      "max     101.0   161.0 \n",
      "\n",
      "Los valores maximos son:\n",
      " nombre    20-UW-M600-0010_5_20211020153154_9_00_06_UD_27...\n",
      "ancho                                                   101\n",
      "alto                                                    161\n",
      "dtype: object \n",
      " Los minimos son:\n",
      " nombre    20-UW-M600-0010_5_20211019105231_35_00_06_UD_1...\n",
      "ancho                                                   101\n",
      "alto                                                    161\n",
      "dtype: object\n"
     ]
    }
   ],
   "source": [
    "print(df3.head(5))\n",
    "print(df3.describe(),\"\\n\")\n",
    "print(\"Los valores maximos son:\\n\",df3.max(),\"\\n Los minimos son:\\n\", df3.min())"
   ]
  }
 ],
 "metadata": {
  "kernelspec": {
   "display_name": "Python 3",
   "language": "python",
   "name": "python3"
  },
  "language_info": {
   "codemirror_mode": {
    "name": "ipython",
    "version": 3
   },
   "file_extension": ".py",
   "mimetype": "text/x-python",
   "name": "python",
   "nbconvert_exporter": "python",
   "pygments_lexer": "ipython3",
   "version": "3.11.6"
  }
 },
 "nbformat": 4,
 "nbformat_minor": 2
}
