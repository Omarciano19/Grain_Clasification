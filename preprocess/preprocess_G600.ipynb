{
 "cells": [
  {
   "cell_type": "markdown",
   "metadata": {},
   "source": [
    "# Preprocess M600\n",
    "\n",
    "\n",
    "Notebook que preprocesa las imágenes, cambia su tamaño, las normaliza y las organiza para Keras."
   ]
  },
  {
   "cell_type": "code",
   "execution_count": null,
   "metadata": {},
   "outputs": [],
   "source": [
    "import os\n",
    "import pandas as pd\n",
    "import PIL\n",
    "from PIL import Image\n",
    "import cv2\n",
    "import numpy as np\n",
    "from tqdm import tqdm\n",
    "import shutil\n",
    "import random\n",
    "\n",
    "version=(PIL.__version__)\n",
    "#Función para analizar las imagenes de varios directorios\n",
    "display(version)\n",
    "\n",
    "\n",
    "import matplotlib.pyplot as plt\n",
    "from tqdm import tqdm\n",
    "\n"
   ]
  },
  {
   "cell_type": "markdown",
   "metadata": {},
   "source": [
    "## Analisis, preprocesamiento y organizacion"
   ]
  },
  {
   "cell_type": "code",
   "execution_count": null,
   "metadata": {},
   "outputs": [],
   "source": [
    "\n",
    "def Analisis(directorios, grano):\n",
    "    df=pd.DataFrame()\n",
    "    print(grano)\n",
    "    for element in tqdm(directorios):\n",
    "        # Directorio donde se encuentran las imágenes\n",
    "\n",
    "        directorio_imagenes = r\"../../grainspace/G600/\" + grano + r\"/\" + element\n",
    "        #directorio_imagenes = r\"D:/Data_Science/grainspace/G600/\" + grano + r\"/\" + element\n",
    "\n",
    "        # Lista para almacenar las dimensiones de las imágenes\n",
    "        dimensiones = []\n",
    "\n",
    "        no_image=0\n",
    "        image_count = 0\n",
    "        # Recorre todos los archivos en el directorio de imágenes\n",
    "        try:\n",
    "            for archivo in tqdm(os.listdir(directorio_imagenes)):\n",
    "                # Asegúrate de que el archivo es una imagen\n",
    "                if archivo.endswith('.jpg') or archivo.endswith('.png'):\n",
    "                    # Abre la imagen\n",
    "                    imagen = Image.open(os.path.join(directorio_imagenes, archivo))\n",
    "                    # Obtiene las dimensiones de la imagen\n",
    "                    ancho, alto = imagen.size\n",
    "                    # Añade las dimensiones a la lista\n",
    "                    dimensiones.append({'nombre': archivo, 'ancho': ancho, 'alto': alto})\n",
    "        except:\n",
    "            print(\"no existe el directorio \",os.path.join(directorio_imagenes, archivo))\n",
    "            \n",
    "\n",
    "        # Crea un DataFrame de pandas a partir de la lista de dimensiones\n",
    "        df_temp =pd.DataFrame(dimensiones)\n",
    "        df=pd.concat([df,df_temp])\n",
    "    # Guarda el DataFrame como un archivo CSV\n",
    "    df.to_csv('dimensiones_imagenes.csv', index=False)\n",
    "    print(df.head(5))\n",
    "    print(df.describe(),\"\\n\")\n",
    "    print(\"Los valores maximos son:\\n\",df.max(),\"\\n Los minimos son:\\n\", df.min())\n",
    "\n",
    "    \n"
   ]
  },
  {
   "cell_type": "markdown",
   "metadata": {},
   "source": [
    "las imagenes analizadas de diferentes tamaños seran usadas en un modelo de ML, se debe cambiar el tamaño de cada una y normalizar.\n",
    "Para ello se va a usar la biblioteca Pillow para el cambio de tamaño y OpenCV para la normalización.\n",
    "A la vez se guardarn en una proporción 75:25 en carpetas de entrenamiento y validación para el uso de keras."
   ]
  },
  {
   "cell_type": "code",
   "execution_count": null,
   "metadata": {},
   "outputs": [],
   "source": [
    "\n",
    "#Fucnión para normalizar y cambiar el tamaño de las imagenes. Tambien intentara organizar las imagenes para keras\n",
    "def PreprocessOrganize(directorios,grano):\n",
    "    df2=pd.DataFrame()\n",
    "    print(grano)\n",
    "    for element in tqdm(directorios):\n",
    "        # Directorio donde se encuentran las imágenes\n",
    "        directorio_imagenes = r\"../../grainspace/G600/\" + grano + r\"/\" + element\n",
    "\n",
    "        # Tamaño deseado para las imágenes\n",
    "        tamaño_deseado = (150, 150)\n",
    "\n",
    "        # Lista para almacenar las dimensiones de las imágenes\n",
    "        dimensiones = []\n",
    "\n",
    "        # Recorre todos los archivos en el directorio de imágenes\n",
    "        for archivo in tqdm(os.listdir(directorio_imagenes)):\n",
    "            # Asegúrate de que el archivo es una imagen\n",
    "            if archivo.endswith('.jpg') or archivo.endswith('.png'):\n",
    "                # Abre la imagen\n",
    "                imagen = Image.open(os.path.join(directorio_imagenes, archivo))\n",
    "                # Cambia el tamaño de la imagen\n",
    "                imagen = imagen.resize(tamaño_deseado)\n",
    "                # Convierte la imagen a una matriz numpy\n",
    "                imagen_np = np.array(imagen)\n",
    "                # Normaliza la imagen al rango 0-255\n",
    "                imagen_normalizada = cv2.normalize(imagen_np, None, 0, 255, cv2.NORM_MINMAX)\n",
    "                # Añade las dimensiones a la lista\n",
    "                dimensiones.append({'nombre': archivo, 'ancho': imagen_normalizada.shape[1], 'alto': imagen_normalizada.shape[0]})\n",
    "                \n",
    "                # Directorios donde se guardarán las imágenes modificadas\n",
    "                directorio_train = r\"../../grainspace/G600/pre/\"+grano+\"/train/\"+element\n",
    "                directorio_validation = r\"../../grainspace/G600/pre/\"+grano+\"/validation/\" +element\n",
    "\n",
    "                directorio_train2 = r\"../../grainspace/G600/pre/both/train/\"+element+\"_\"+grano\n",
    "                directorio_validation2 = r\"../../grainspace/G600/pre/both/validation/\" +element+\"_\"+grano\n",
    "                \n",
    "                \n",
    "                # Asegúrate de que los directorios de salida existen\n",
    "                try:\n",
    "                    os.makedirs(directorio_train, exist_ok=True)\n",
    "                    os.makedirs(directorio_validation, exist_ok=True)\n",
    "                    os.makedirs(directorio_train2, exist_ok=True)\n",
    "                    os.makedirs(directorio_validation2, exist_ok=True)                    \n",
    "                except:\n",
    "                    os.makedirs(directorio_train)\n",
    "                    os.makedirs(directorio_validation)\n",
    "                    os.makedirs(directorio_train2)\n",
    "                    os.makedirs(directorio_validation2) \n",
    "                                   \n",
    "                # Decide aleatoriamente si la imagen va a train o validation\n",
    "                if random.random() < 0.75:  # 75% de probabilidad para train\n",
    "                    directorio_salida = directorio_train\n",
    "                    directorio_salida2 = directorio_train2\n",
    "                else:  # 25% de probabilidad para validation\n",
    "                    directorio_salida = directorio_validation\n",
    "                    directorio_salida2= directorio_validation2\n",
    "                \n",
    "                # Guarda la imagen normalizada\n",
    "                imagen_salida = Image.fromarray(imagen_normalizada)\n",
    "                imagen_salida.save(os.path.join(directorio_salida, archivo))\n",
    "                imagen_salida.save(os.path.join(directorio_salida2, archivo))\n",
    "\n",
    "                \n",
    "\n",
    "        # Crea un DataFrame de pandas a partir de la lista de dimensiones\n",
    "        df_temp =pd.DataFrame(dimensiones)\n",
    "        df2=pd.concat([df2,df_temp])\n",
    "        # Guarda el DataFrame como un archivo CSV\n",
    "        df2.to_csv('dimensiones_Finales.csv', index=False)\n",
    "    print(df2.head(5))\n",
    "    print(df2.describe(),\"\\n\")\n",
    "    print(\"Los valores maximos son:\\n\",df2.max(),\"\\n Los minimos son:\\n\", df2.min())\n"
   ]
  },
  {
   "cell_type": "markdown",
   "metadata": {},
   "source": [
    "Lamamos a la función de analsis, luego hacemos cambios con la función de preprocesamiento y finalmente volveremos a analizar las imagenes modificadas para asegurar que hayan sido correctamente procesadas"
   ]
  },
  {
   "cell_type": "code",
   "execution_count": null,
   "metadata": {},
   "outputs": [],
   "source": [
    "directorios=[r\"\\NOR\", r\"/AP\", r\"/BN\", r\"/FM\", r\"/HD\", r\"/MY\", r\"/SD\"]\n",
    "grano=r\"maize\"\n",
    "print(\"-------------------***--------------------------- \\n                 Analisis\\n-------------------***---------------------------\")\n",
    "Analisis(directorios , grano)\n",
    "\n",
    "print(\"-------------------***--------------------------- \\n        Preprosesar y Organizar\\n-------------------***---------------------------\")\n",
    "PreprocessOrganize(directorios, r\"maize\")\n",
    "print(\"-------------------***--------------------------- \\n                   Listo\\n-------------------***---------------------------\")\n"
   ]
  },
  {
   "cell_type": "markdown",
   "metadata": {},
   "source": [
    "Ahora nos aseguramos del exito, repitiendo el primer script a las nuevas imagenes."
   ]
  },
  {
   "cell_type": "code",
   "execution_count": null,
   "metadata": {},
   "outputs": [],
   "source": [
    "directorio_salida=[r\"\\NOR\", r\"/AP\", r\"/BN\", r\"/FM\", r\"/HD\", r\"/MY\", r\"/SD\"]\n",
    "grano=r\"/pre/maize/\"\n",
    "#Analisis(directorios , grano)\n"
   ]
  },
  {
   "cell_type": "markdown",
   "metadata": {},
   "source": [
    "Ahora repetiremos para el trigo(wheat) "
   ]
  },
  {
   "cell_type": "code",
   "execution_count": null,
   "metadata": {},
   "outputs": [],
   "source": [
    "wheat_dir=[]\n",
    "for element in directorios: wheat_dir.append(element.replace(\"maize\",\"wheat\"))\n",
    "wheat_dir.extend([\"/BP\",\"/FS\"])\n",
    "wheat_dir.remove(\"/FM\")\n",
    "wheat_dir.remove(\"/HD\")\n",
    "\n",
    "print(wheat_dir)\n",
    "print(\"-------------------***--------------------------- \\n                 Analisis\\n-------------------***---------------------------\")\n",
    "\n",
    "Analisis(wheat_dir,r\"wheat\")\n",
    "print(\"-------------------***--------------------------- \\n        Preprosesar y Organizar\\n-------------------***---------------------------\")\n",
    "\n",
    "PreprocessOrganize(wheat_dir,r\"wheat\")\n",
    "print(\"-------------------***--------------------------- \\n                   Listo\\n-------------------***---------------------------\")"
   ]
  }
 ],
 "metadata": {
  "kernelspec": {
   "display_name": "Python 3",
   "language": "python",
   "name": "python3"
  },
  "language_info": {
   "codemirror_mode": {
    "name": "ipython",
    "version": 3
   },
   "file_extension": ".py",
   "mimetype": "text/x-python",
   "name": "python",
   "nbconvert_exporter": "python",
   "pygments_lexer": "ipython3",
   "version": "3.11.9"
  }
 },
 "nbformat": 4,
 "nbformat_minor": 2
}
